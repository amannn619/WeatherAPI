{
 "cells": [
  {
   "cell_type": "markdown",
   "id": "633a51c1-f5a8-4504-95b0-35aacb99af40",
   "metadata": {},
   "source": [
    "## Import"
   ]
  },
  {
   "cell_type": "code",
   "execution_count": 24,
   "id": "ef8a5198-5633-4882-b87a-16b780fe6733",
   "metadata": {},
   "outputs": [],
   "source": [
    "import pandas as pd\n",
    "import matplotlib"
   ]
  },
  {
   "cell_type": "code",
   "execution_count": 71,
   "id": "2fba05b5-89e0-478f-8be2-a837bfcdd7e8",
   "metadata": {},
   "outputs": [],
   "source": [
    "# data_small/TG_STAID000001.txt\n",
    "df = pd.read_csv(\"data_small/TG_STAID000001.txt\", skiprows=20, parse_dates=[\"    DATE\"])"
   ]
  },
  {
   "cell_type": "code",
   "execution_count": 57,
   "id": "bb2cef3c-274b-436a-b6a9-e85675e779db",
   "metadata": {},
   "outputs": [],
   "source": [
    "df[\"    DATE\"] = df[\"    DATE\"].astype(str)"
   ]
  },
  {
   "cell_type": "code",
   "execution_count": 58,
   "id": "344514c7-46a1-4434-9f60-ee7e234cc7ad",
   "metadata": {},
   "outputs": [
    {
     "data": {
      "text/plain": [
       "str"
      ]
     },
     "execution_count": 58,
     "metadata": {},
     "output_type": "execute_result"
    }
   ],
   "source": [
    "type(df[\"    DATE\"][0])"
   ]
  },
  {
   "cell_type": "code",
   "execution_count": 77,
   "id": "f2925aaf-d010-4891-a4f8-7f7f03db9937",
   "metadata": {},
   "outputs": [
    {
     "name": "stdout",
     "output_type": "stream",
     "text": [
      "     STAID   SOUID       DATE     TG   Q_TG\n",
      "0        1   35381 1860-01-01     21      0\n",
      "1        1   35381 1860-01-02     46      0\n",
      "2        1   35381 1860-01-03     31      0\n",
      "3        1   35381 1860-01-04     37      0\n",
      "4        1   35381 1860-01-05     31      0\n",
      "..     ...     ...        ...    ...    ...\n",
      "361      1   35381 1860-12-27   -100      0\n",
      "362      1   35381 1860-12-28    -98      0\n",
      "363      1   35381 1860-12-29    -71      0\n",
      "364      1   35381 1860-12-30    -35      0\n",
      "365      1   35381 1860-12-31   -121      0\n",
      "\n",
      "[366 rows x 5 columns]\n"
     ]
    }
   ],
   "source": [
    "data = df.loc[df[\"    DATE\"].dt.year == 1860]\n",
    "# data= df.loc[df['    DATE'].str.startswith(\"1862\")]\n",
    "# data = df.loc[df[\"   TG\"].str == \"24\"]\n",
    "print(data)"
   ]
  },
  {
   "cell_type": "code",
   "execution_count": 32,
   "id": "ceede22d-8635-4c62-8fe2-061c3efe438f",
   "metadata": {},
   "outputs": [
    {
     "name": "stdout",
     "output_type": "stream",
     "text": [
      "<class 'int'>\n",
      "<class 'int'>\n",
      "<class 'int'>\n",
      "<class 'int'>\n",
      "<class 'int'>\n",
      "<class 'int'>\n",
      "<class 'int'>\n",
      "<class 'int'>\n",
      "<class 'int'>\n",
      "<class 'int'>\n"
     ]
    }
   ],
   "source": [
    "x=df[\"    DATE\"]\n",
    "for i in x[:10]:\n",
    "    print(type(i.year))"
   ]
  },
  {
   "cell_type": "code",
   "execution_count": null,
   "id": "c1bf97d7-e7a7-42f7-8eeb-540746a8146f",
   "metadata": {},
   "outputs": [],
   "source": []
  },
  {
   "cell_type": "code",
   "execution_count": 13,
   "id": "95b9c9a8-4e2a-4b49-b36c-80ee951e37f7",
   "metadata": {},
   "outputs": [
    {
     "data": {
      "text/plain": [
       "1860"
      ]
     },
     "execution_count": 13,
     "metadata": {},
     "output_type": "execute_result"
    }
   ],
   "source": [
    "x.year"
   ]
  },
  {
   "cell_type": "code",
   "execution_count": 11,
   "id": "79e3e7f8-ca7d-468d-aaa6-5486c4b05284",
   "metadata": {},
   "outputs": [
    {
     "data": {
      "text/plain": [
       "['__add__',\n",
       " '__array_priority__',\n",
       " '__class__',\n",
       " '__delattr__',\n",
       " '__dict__',\n",
       " '__dir__',\n",
       " '__doc__',\n",
       " '__eq__',\n",
       " '__format__',\n",
       " '__ge__',\n",
       " '__getattribute__',\n",
       " '__getstate__',\n",
       " '__gt__',\n",
       " '__hash__',\n",
       " '__init__',\n",
       " '__init_subclass__',\n",
       " '__le__',\n",
       " '__lt__',\n",
       " '__module__',\n",
       " '__ne__',\n",
       " '__new__',\n",
       " '__pyx_vtable__',\n",
       " '__radd__',\n",
       " '__reduce__',\n",
       " '__reduce_cython__',\n",
       " '__reduce_ex__',\n",
       " '__repr__',\n",
       " '__rsub__',\n",
       " '__setattr__',\n",
       " '__setstate__',\n",
       " '__setstate_cython__',\n",
       " '__sizeof__',\n",
       " '__str__',\n",
       " '__sub__',\n",
       " '__subclasshook__',\n",
       " '__weakref__',\n",
       " '_creso',\n",
       " '_date_repr',\n",
       " '_from_dt64',\n",
       " '_from_value_and_reso',\n",
       " '_repr_base',\n",
       " '_round',\n",
       " '_short_repr',\n",
       " '_time_repr',\n",
       " '_value',\n",
       " 'as_unit',\n",
       " 'asm8',\n",
       " 'astimezone',\n",
       " 'ceil',\n",
       " 'combine',\n",
       " 'ctime',\n",
       " 'date',\n",
       " 'day',\n",
       " 'day_name',\n",
       " 'day_of_week',\n",
       " 'day_of_year',\n",
       " 'dayofweek',\n",
       " 'dayofyear',\n",
       " 'days_in_month',\n",
       " 'daysinmonth',\n",
       " 'dst',\n",
       " 'floor',\n",
       " 'fold',\n",
       " 'fromisocalendar',\n",
       " 'fromisoformat',\n",
       " 'fromordinal',\n",
       " 'fromtimestamp',\n",
       " 'hour',\n",
       " 'is_leap_year',\n",
       " 'is_month_end',\n",
       " 'is_month_start',\n",
       " 'is_quarter_end',\n",
       " 'is_quarter_start',\n",
       " 'is_year_end',\n",
       " 'is_year_start',\n",
       " 'isocalendar',\n",
       " 'isoformat',\n",
       " 'isoweekday',\n",
       " 'max',\n",
       " 'microsecond',\n",
       " 'min',\n",
       " 'minute',\n",
       " 'month',\n",
       " 'month_name',\n",
       " 'nanosecond',\n",
       " 'normalize',\n",
       " 'now',\n",
       " 'quarter',\n",
       " 'replace',\n",
       " 'resolution',\n",
       " 'round',\n",
       " 'second',\n",
       " 'strftime',\n",
       " 'strptime',\n",
       " 'time',\n",
       " 'timestamp',\n",
       " 'timetuple',\n",
       " 'timetz',\n",
       " 'to_datetime64',\n",
       " 'to_julian_date',\n",
       " 'to_numpy',\n",
       " 'to_period',\n",
       " 'to_pydatetime',\n",
       " 'today',\n",
       " 'toordinal',\n",
       " 'tz',\n",
       " 'tz_convert',\n",
       " 'tz_localize',\n",
       " 'tzinfo',\n",
       " 'tzname',\n",
       " 'unit',\n",
       " 'utcfromtimestamp',\n",
       " 'utcnow',\n",
       " 'utcoffset',\n",
       " 'utctimetuple',\n",
       " 'value',\n",
       " 'week',\n",
       " 'weekday',\n",
       " 'weekofyear',\n",
       " 'year']"
      ]
     },
     "execution_count": 11,
     "metadata": {},
     "output_type": "execute_result"
    }
   ],
   "source": [
    "dir(x)"
   ]
  },
  {
   "cell_type": "code",
   "execution_count": 73,
   "id": "ae51babc-6072-4e76-b5a2-e81a756218ed",
   "metadata": {},
   "outputs": [
    {
     "name": "stdout",
     "output_type": "stream",
     "text": [
      "{'    DATE': {0: Timestamp('1860-01-01 00:00:00'), 1: Timestamp('1860-01-02 00:00:00'), 2: Timestamp('1860-01-03 00:00:00'), 3: Timestamp('1860-01-04 00:00:00'), 4: Timestamp('1860-01-05 00:00:00'), 5: Timestamp('1860-01-06 00:00:00'), 6: Timestamp('1860-01-07 00:00:00'), 7: Timestamp('1860-01-08 00:00:00'), 8: Timestamp('1860-01-09 00:00:00'), 9: Timestamp('1860-01-10 00:00:00')}, '   TG': {0: 21, 1: 46, 2: 31, 3: 37, 4: 31, 5: 16, 6: 5, 7: -27, 8: -4, 9: -17}}\n"
     ]
    }
   ],
   "source": [
    "test = df[[\"    DATE\", \"   TG\"]][:10].to_dict()\n",
    "print(test)"
   ]
  },
  {
   "cell_type": "code",
   "execution_count": 74,
   "id": "d315de5f-93ed-45fb-8a5a-8c3f0b60ec82",
   "metadata": {},
   "outputs": [
    {
     "name": "stdout",
     "output_type": "stream",
     "text": [
      "1860-01-01 \n",
      "1860-01-02 \n",
      "1860-01-03 \n",
      "1860-01-04 \n",
      "1860-01-05 \n",
      "1860-01-06 \n",
      "1860-01-07 \n",
      "1860-01-08 \n",
      "1860-01-09 \n",
      "1860-01-10 \n"
     ]
    }
   ],
   "source": [
    "dict = {}\n",
    "for i,j in zip(test[\"    DATE\"].values() , test[\"   TG\"].values()) :\n",
    "    key = (str(i)[:11])\n",
    "    print(str(i)[:11])\n",
    "    value = str(j/10)\n",
    "    dict[key] = value"
   ]
  },
  {
   "cell_type": "code",
   "execution_count": 72,
   "id": "aab162ed-a0dd-4eb3-aba1-f02ba85e933d",
   "metadata": {},
   "outputs": [
    {
     "data": {
      "text/plain": [
       "{'1860-01-01 ': '2.1',\n",
       " '1860-01-02 ': '4.6',\n",
       " '1860-01-03 ': '3.1',\n",
       " '1860-01-04 ': '3.7',\n",
       " '1860-01-05 ': '3.1',\n",
       " '1860-01-06 ': '1.6',\n",
       " '1860-01-07 ': '0.5',\n",
       " '1860-01-08 ': '-2.7',\n",
       " '1860-01-09 ': '-0.4',\n",
       " '1860-01-10 ': '-1.7',\n",
       " '1860-01-11 ': '-0.5',\n",
       " '1860-01-12 ': '-1.8',\n",
       " '1860-01-13 ': '-2.7',\n",
       " '1860-01-14 ': '-2.6',\n",
       " '1860-01-15 ': '-3.7',\n",
       " '1860-01-16 ': '-0.9',\n",
       " '1860-01-17 ': '0.7',\n",
       " '1860-01-18 ': '-0.6',\n",
       " '1860-01-19 ': '-1.6',\n",
       " '1860-01-20 ': '-1.9',\n",
       " '1860-01-21 ': '-1.1',\n",
       " '1860-01-22 ': '-0.1',\n",
       " '1860-01-23 ': '0.2',\n",
       " '1860-01-24 ': '0.7',\n",
       " '1860-01-25 ': '1.0',\n",
       " '1860-01-26 ': '0.5',\n",
       " '1860-01-27 ': '-2.1',\n",
       " '1860-01-28 ': '-1.0',\n",
       " '1860-01-29 ': '-2.5',\n",
       " '1860-01-30 ': '0.5',\n",
       " '1860-01-31 ': '-6.3',\n",
       " '1860-02-01 ': '-5.3',\n",
       " '1860-02-02 ': '-1.8',\n",
       " '1860-02-03 ': '-5.5',\n",
       " '1860-02-04 ': '-0.5',\n",
       " '1860-02-05 ': '1.2',\n",
       " '1860-02-06 ': '-1.8',\n",
       " '1860-02-07 ': '-9.5',\n",
       " '1860-02-08 ': '-3.1',\n",
       " '1860-02-09 ': '-11.2',\n",
       " '1860-02-10 ': '-8.2',\n",
       " '1860-02-11 ': '-6.6',\n",
       " '1860-02-12 ': '-17.1',\n",
       " '1860-02-13 ': '-16.1',\n",
       " '1860-02-14 ': '-9.9',\n",
       " '1860-02-15 ': '-999.9',\n",
       " '1860-02-16 ': '-5.3',\n",
       " '1860-02-17 ': '-6.2',\n",
       " '1860-02-18 ': '-2.6',\n",
       " '1860-02-19 ': '-0.3',\n",
       " '1860-02-20 ': '-0.2',\n",
       " '1860-02-21 ': '-8.2',\n",
       " '1860-02-22 ': '-13.5',\n",
       " '1860-02-23 ': '-10.5',\n",
       " '1860-02-24 ': '-4.2',\n",
       " '1860-02-25 ': '-4.8',\n",
       " '1860-02-26 ': '-2.8',\n",
       " '1860-02-27 ': '-0.7',\n",
       " '1860-02-28 ': '0.8',\n",
       " '1860-02-29 ': '-1.8',\n",
       " '1860-03-01 ': '-4.3',\n",
       " '1860-03-02 ': '-4.8',\n",
       " '1860-03-03 ': '-2.0',\n",
       " '1860-03-04 ': '-0.7',\n",
       " '1860-03-05 ': '-0.2',\n",
       " '1860-03-06 ': '-4.2',\n",
       " '1860-03-07 ': '-6.3',\n",
       " '1860-03-08 ': '-7.9',\n",
       " '1860-03-09 ': '-8.7',\n",
       " '1860-03-10 ': '-8.1',\n",
       " '1860-03-11 ': '-999.9',\n",
       " '1860-03-12 ': '-8.0',\n",
       " '1860-03-13 ': '-9.3',\n",
       " '1860-03-14 ': '-2.2',\n",
       " '1860-03-15 ': '0.1',\n",
       " '1860-03-16 ': '-2.5',\n",
       " '1860-03-17 ': '-1.6',\n",
       " '1860-03-18 ': '2.1',\n",
       " '1860-03-19 ': '1.4',\n",
       " '1860-03-20 ': '2.9',\n",
       " '1860-03-21 ': '2.4',\n",
       " '1860-03-22 ': '1.1',\n",
       " '1860-03-23 ': '1.9',\n",
       " '1860-03-24 ': '1.4',\n",
       " '1860-03-25 ': '1.4',\n",
       " '1860-03-26 ': '1.2',\n",
       " '1860-03-27 ': '1.5',\n",
       " '1860-03-28 ': '0.5',\n",
       " '1860-03-29 ': '-0.7',\n",
       " '1860-03-30 ': '0.6',\n",
       " '1860-03-31 ': '0.9',\n",
       " '1860-04-01 ': '3.3',\n",
       " '1860-04-02 ': '5.2',\n",
       " '1860-04-03 ': '3.4',\n",
       " '1860-04-04 ': '-0.6',\n",
       " '1860-04-05 ': '0.7',\n",
       " '1860-04-06 ': '3.4',\n",
       " '1860-04-07 ': '4.6',\n",
       " '1860-04-08 ': '7.1',\n",
       " '1860-04-09 ': '4.6'}"
      ]
     },
     "execution_count": 72,
     "metadata": {},
     "output_type": "execute_result"
    }
   ],
   "source": [
    "dict"
   ]
  },
  {
   "cell_type": "code",
   "execution_count": 5,
   "id": "76c4e52f-7a5e-4322-a5f8-ae2169205d7c",
   "metadata": {},
   "outputs": [
    {
     "data": {
      "text/plain": [
       "Index(['STAID', ' SOUID', '    DATE', '   TG', ' Q_TG'], dtype='object')"
      ]
     },
     "execution_count": 5,
     "metadata": {},
     "output_type": "execute_result"
    }
   ],
   "source": [
    "df.columns"
   ]
  },
  {
   "cell_type": "code",
   "execution_count": 6,
   "id": "0aba6af7-99d8-447f-9202-d388c9bed87c",
   "metadata": {},
   "outputs": [
    {
     "data": {
      "text/plain": [
       "0          21\n",
       "1          46\n",
       "2          31\n",
       "3          37\n",
       "4          31\n",
       "         ... \n",
       "59316   -9999\n",
       "59317   -9999\n",
       "59318   -9999\n",
       "59319   -9999\n",
       "59320   -9999\n",
       "Name:    TG, Length: 59321, dtype: int64"
      ]
     },
     "execution_count": 6,
     "metadata": {},
     "output_type": "execute_result"
    }
   ],
   "source": [
    "df[\"   TG\"] #series"
   ]
  },
  {
   "cell_type": "code",
   "execution_count": 7,
   "id": "223caaa2-a135-4956-ae1f-ca2c866b3df7",
   "metadata": {},
   "outputs": [
    {
     "data": {
      "text/html": [
       "<div>\n",
       "<style scoped>\n",
       "    .dataframe tbody tr th:only-of-type {\n",
       "        vertical-align: middle;\n",
       "    }\n",
       "\n",
       "    .dataframe tbody tr th {\n",
       "        vertical-align: top;\n",
       "    }\n",
       "\n",
       "    .dataframe thead th {\n",
       "        text-align: right;\n",
       "    }\n",
       "</style>\n",
       "<table border=\"1\" class=\"dataframe\">\n",
       "  <thead>\n",
       "    <tr style=\"text-align: right;\">\n",
       "      <th></th>\n",
       "      <th>TG</th>\n",
       "      <th>Q_TG</th>\n",
       "    </tr>\n",
       "  </thead>\n",
       "  <tbody>\n",
       "    <tr>\n",
       "      <th>0</th>\n",
       "      <td>21</td>\n",
       "      <td>0</td>\n",
       "    </tr>\n",
       "    <tr>\n",
       "      <th>1</th>\n",
       "      <td>46</td>\n",
       "      <td>0</td>\n",
       "    </tr>\n",
       "    <tr>\n",
       "      <th>2</th>\n",
       "      <td>31</td>\n",
       "      <td>0</td>\n",
       "    </tr>\n",
       "    <tr>\n",
       "      <th>3</th>\n",
       "      <td>37</td>\n",
       "      <td>0</td>\n",
       "    </tr>\n",
       "    <tr>\n",
       "      <th>4</th>\n",
       "      <td>31</td>\n",
       "      <td>0</td>\n",
       "    </tr>\n",
       "    <tr>\n",
       "      <th>...</th>\n",
       "      <td>...</td>\n",
       "      <td>...</td>\n",
       "    </tr>\n",
       "    <tr>\n",
       "      <th>59316</th>\n",
       "      <td>-9999</td>\n",
       "      <td>9</td>\n",
       "    </tr>\n",
       "    <tr>\n",
       "      <th>59317</th>\n",
       "      <td>-9999</td>\n",
       "      <td>9</td>\n",
       "    </tr>\n",
       "    <tr>\n",
       "      <th>59318</th>\n",
       "      <td>-9999</td>\n",
       "      <td>9</td>\n",
       "    </tr>\n",
       "    <tr>\n",
       "      <th>59319</th>\n",
       "      <td>-9999</td>\n",
       "      <td>9</td>\n",
       "    </tr>\n",
       "    <tr>\n",
       "      <th>59320</th>\n",
       "      <td>-9999</td>\n",
       "      <td>9</td>\n",
       "    </tr>\n",
       "  </tbody>\n",
       "</table>\n",
       "<p>59321 rows × 2 columns</p>\n",
       "</div>"
      ],
      "text/plain": [
       "          TG   Q_TG\n",
       "0         21      0\n",
       "1         46      0\n",
       "2         31      0\n",
       "3         37      0\n",
       "4         31      0\n",
       "...      ...    ...\n",
       "59316  -9999      9\n",
       "59317  -9999      9\n",
       "59318  -9999      9\n",
       "59319  -9999      9\n",
       "59320  -9999      9\n",
       "\n",
       "[59321 rows x 2 columns]"
      ]
     },
     "execution_count": 7,
     "metadata": {},
     "output_type": "execute_result"
    }
   ],
   "source": [
    "df[[\"   TG\", \" Q_TG\"]] #dataframe"
   ]
  },
  {
   "cell_type": "code",
   "execution_count": 8,
   "id": "7bf6c9d3-c68b-45e3-9b96-3be787fd8a99",
   "metadata": {},
   "outputs": [
    {
     "data": {
      "text/plain": [
       "6.360787526128467"
      ]
     },
     "execution_count": 8,
     "metadata": {},
     "output_type": "execute_result"
    }
   ],
   "source": [
    "df.loc[df[\"   TG\"] != -9999][\"   TG\"].mean()/10"
   ]
  },
  {
   "cell_type": "code",
   "execution_count": 9,
   "id": "24d9a9f5-20fd-4e87-8c33-b4937f848d3f",
   "metadata": {},
   "outputs": [
    {
     "data": {
      "text/plain": [
       "26.2"
      ]
     },
     "execution_count": 9,
     "metadata": {},
     "output_type": "execute_result"
    }
   ],
   "source": [
    "df.loc[df[\"   TG\"] != -9999][\"   TG\"].max()/10"
   ]
  },
  {
   "cell_type": "code",
   "execution_count": 10,
   "id": "d67ee668-a637-4719-a267-0bf0dacc6768",
   "metadata": {},
   "outputs": [
    {
     "data": {
      "text/plain": [
       "-28.8"
      ]
     },
     "execution_count": 10,
     "metadata": {},
     "output_type": "execute_result"
    }
   ],
   "source": [
    "df.loc[df[\"   TG\"] != -9999][\"   TG\"].min()/10"
   ]
  },
  {
   "cell_type": "code",
   "execution_count": 11,
   "id": "fa739f99-f451-43aa-9a89-ed09e9e41d24",
   "metadata": {},
   "outputs": [
    {
     "data": {
      "text/plain": [
       "<Axes: >"
      ]
     },
     "execution_count": 11,
     "metadata": {},
     "output_type": "execute_result"
    },
    {
     "data": {
      "image/png": "[encoded data removed]",
      "text/plain": [
       "<Figure size 640x480 with 1 Axes>"
      ]
     },
     "metadata": {},
     "output_type": "display_data"
    }
   ],
   "source": [
    "df[\" Q_TG\"].hist()"
   ]
  },
  {
   "cell_type": "code",
   "execution_count": 18,
   "id": "fbeb0391-2ec2-43db-95eb-e61db1fc3220",
   "metadata": {},
   "outputs": [],
   "source": [
    "df[\"TG\"] = df[\"   TG\"].mask(df[\"   TG\"] == -9999)/10"
   ]
  },
  {
   "cell_type": "code",
   "execution_count": 24,
   "id": "99c64169-1dcd-4edb-8154-14694b73dfbc",
   "metadata": {},
   "outputs": [],
   "source": [
    "df = df.drop(\"   TG\", axis = 1)"
   ]
  },
  {
   "cell_type": "code",
   "execution_count": 26,
   "id": "2e48d5b1-bc6a-4f46-b98f-635c665e775d",
   "metadata": {},
   "outputs": [
    {
     "data": {
      "text/plain": [
       "<Axes: xlabel='    DATE'>"
      ]
     },
     "execution_count": 26,
     "metadata": {},
     "output_type": "execute_result"
    },
    {
     "data": {
      "image/png": "[encoded data removed]",
      "text/plain": [
       "<Figure size 1500x300 with 1 Axes>"
      ]
     },
     "metadata": {},
     "output_type": "display_data"
    }
   ],
   "source": [
    "df[100: 1000].plot(x=\"    DATE\", y=\"TG\", figsize = (15, 3))"
   ]
  },
  {
   "cell_type": "code",
   "execution_count": 31,
   "id": "3e90d8b9-f51a-4b02-bf2a-3b200ee482dd",
   "metadata": {},
   "outputs": [
    {
     "data": {
      "text/html": [
       "<div>\n",
       "<style scoped>\n",
       "    .dataframe tbody tr th:only-of-type {\n",
       "        vertical-align: middle;\n",
       "    }\n",
       "\n",
       "    .dataframe tbody tr th {\n",
       "        vertical-align: top;\n",
       "    }\n",
       "\n",
       "    .dataframe thead th {\n",
       "        text-align: right;\n",
       "    }\n",
       "</style>\n",
       "<table border=\"1\" class=\"dataframe\">\n",
       "  <thead>\n",
       "    <tr style=\"text-align: right;\">\n",
       "      <th></th>\n",
       "      <th>STAID</th>\n",
       "      <th>SOUID</th>\n",
       "      <th>DATE</th>\n",
       "      <th>Q_TG</th>\n",
       "      <th>TG</th>\n",
       "    </tr>\n",
       "  </thead>\n",
       "  <tbody>\n",
       "    <tr>\n",
       "      <th>0</th>\n",
       "      <td>1</td>\n",
       "      <td>35381</td>\n",
       "      <td>1860-01-01</td>\n",
       "      <td>0</td>\n",
       "      <td>2.1</td>\n",
       "    </tr>\n",
       "  </tbody>\n",
       "</table>\n",
       "</div>"
      ],
      "text/plain": [
       "   STAID   SOUID       DATE   Q_TG   TG\n",
       "0      1   35381 1860-01-01      0  2.1"
      ]
     },
     "execution_count": 31,
     "metadata": {},
     "output_type": "execute_result"
    }
   ],
   "source": [
    "df.loc[df[\"    DATE\"] == \"18600101\"]"
   ]
  },
  {
   "cell_type": "code",
   "execution_count": 85,
   "id": "85ba2a4b-6707-42f5-80cc-f8ad22fdb0f3",
   "metadata": {},
   "outputs": [],
   "source": [
    "df = pd.read_csv(\"wines.csv\")"
   ]
  },
  {
   "cell_type": "code",
   "execution_count": 86,
   "id": "0161a3b8-8ba9-4b5f-8102-8c3e8b18cc2a",
   "metadata": {},
   "outputs": [
    {
     "data": {
      "text/html": [
       "<div>\n",
       "<style scoped>\n",
       "    .dataframe tbody tr th:only-of-type {\n",
       "        vertical-align: middle;\n",
       "    }\n",
       "\n",
       "    .dataframe tbody tr th {\n",
       "        vertical-align: top;\n",
       "    }\n",
       "\n",
       "    .dataframe thead th {\n",
       "        text-align: right;\n",
       "    }\n",
       "</style>\n",
       "<table border=\"1\" class=\"dataframe\">\n",
       "  <thead>\n",
       "    <tr style=\"text-align: right;\">\n",
       "      <th></th>\n",
       "      <th>Unnamed: 0</th>\n",
       "      <th>country</th>\n",
       "      <th>description</th>\n",
       "      <th>name</th>\n",
       "      <th>points</th>\n",
       "      <th>price</th>\n",
       "      <th>province</th>\n",
       "      <th>region_1</th>\n",
       "      <th>region_2</th>\n",
       "      <th>taster_name</th>\n",
       "      <th>taster_twitter_handle</th>\n",
       "      <th>title</th>\n",
       "      <th>variety</th>\n",
       "      <th>winery</th>\n",
       "    </tr>\n",
       "  </thead>\n",
       "  <tbody>\n",
       "    <tr>\n",
       "      <th>0</th>\n",
       "      <td>0</td>\n",
       "      <td>Italy</td>\n",
       "      <td>Aromas include tropical fruit, broom, brimston...</td>\n",
       "      <td>Vulkà Bianco</td>\n",
       "      <td>87</td>\n",
       "      <td>NaN</td>\n",
       "      <td>Sicily &amp; Sardinia</td>\n",
       "      <td>Etna</td>\n",
       "      <td>NaN</td>\n",
       "      <td>Kerin O’Keefe</td>\n",
       "      <td>@kerinokeefe</td>\n",
       "      <td>Nicosia 2013 Vulkà Bianco  (Etna)</td>\n",
       "      <td>White Blend</td>\n",
       "      <td>Nicosia</td>\n",
       "    </tr>\n",
       "    <tr>\n",
       "      <th>1</th>\n",
       "      <td>1</td>\n",
       "      <td>Portugal</td>\n",
       "      <td>This is ripe and fruity, a wine that is smooth...</td>\n",
       "      <td>Avidagos</td>\n",
       "      <td>87</td>\n",
       "      <td>15.0</td>\n",
       "      <td>Douro</td>\n",
       "      <td>NaN</td>\n",
       "      <td>NaN</td>\n",
       "      <td>Roger Voss</td>\n",
       "      <td>@vossroger</td>\n",
       "      <td>Quinta dos Avidagos 2011 Avidagos Red (Douro)</td>\n",
       "      <td>Portuguese Red</td>\n",
       "      <td>Quinta dos Avidagos</td>\n",
       "    </tr>\n",
       "    <tr>\n",
       "      <th>2</th>\n",
       "      <td>2</td>\n",
       "      <td>US</td>\n",
       "      <td>Tart and snappy, the flavors of lime flesh and...</td>\n",
       "      <td>NaN</td>\n",
       "      <td>87</td>\n",
       "      <td>14.0</td>\n",
       "      <td>Oregon</td>\n",
       "      <td>Willamette Valley</td>\n",
       "      <td>Willamette Valley</td>\n",
       "      <td>Paul Gregutt</td>\n",
       "      <td>@paulgwine</td>\n",
       "      <td>Rainstorm 2013 Pinot Gris (Willamette Valley)</td>\n",
       "      <td>Pinot Gris</td>\n",
       "      <td>Rainstorm</td>\n",
       "    </tr>\n",
       "    <tr>\n",
       "      <th>3</th>\n",
       "      <td>3</td>\n",
       "      <td>US</td>\n",
       "      <td>Pineapple rind, lemon pith and orange blossom ...</td>\n",
       "      <td>Reserve Late Harvest</td>\n",
       "      <td>87</td>\n",
       "      <td>13.0</td>\n",
       "      <td>Michigan</td>\n",
       "      <td>Lake Michigan Shore</td>\n",
       "      <td>NaN</td>\n",
       "      <td>Alexander Peartree</td>\n",
       "      <td>NaN</td>\n",
       "      <td>St. Julian 2013 Reserve Late Harvest Riesling ...</td>\n",
       "      <td>Riesling</td>\n",
       "      <td>St. Julian</td>\n",
       "    </tr>\n",
       "    <tr>\n",
       "      <th>4</th>\n",
       "      <td>4</td>\n",
       "      <td>US</td>\n",
       "      <td>Much like the regular bottling from 2012, this...</td>\n",
       "      <td>Vintner's Reserve Wild Child Block</td>\n",
       "      <td>87</td>\n",
       "      <td>65.0</td>\n",
       "      <td>Oregon</td>\n",
       "      <td>Willamette Valley</td>\n",
       "      <td>Willamette Valley</td>\n",
       "      <td>Paul Gregutt</td>\n",
       "      <td>@paulgwine</td>\n",
       "      <td>Sweet Cheeks 2012 Vintner's Reserve Wild Child...</td>\n",
       "      <td>Pinot Noir</td>\n",
       "      <td>Sweet Cheeks</td>\n",
       "    </tr>\n",
       "  </tbody>\n",
       "</table>\n",
       "</div>"
      ],
      "text/plain": [
       "   Unnamed: 0   country                                        description  \\\n",
       "0           0     Italy  Aromas include tropical fruit, broom, brimston...   \n",
       "1           1  Portugal  This is ripe and fruity, a wine that is smooth...   \n",
       "2           2        US  Tart and snappy, the flavors of lime flesh and...   \n",
       "3           3        US  Pineapple rind, lemon pith and orange blossom ...   \n",
       "4           4        US  Much like the regular bottling from 2012, this...   \n",
       "\n",
       "                                 name  points  price           province  \\\n",
       "0                        Vulkà Bianco      87    NaN  Sicily & Sardinia   \n",
       "1                            Avidagos      87   15.0              Douro   \n",
       "2                                 NaN      87   14.0             Oregon   \n",
       "3                Reserve Late Harvest      87   13.0           Michigan   \n",
       "4  Vintner's Reserve Wild Child Block      87   65.0             Oregon   \n",
       "\n",
       "              region_1           region_2         taster_name  \\\n",
       "0                 Etna                NaN       Kerin O’Keefe   \n",
       "1                  NaN                NaN          Roger Voss   \n",
       "2    Willamette Valley  Willamette Valley        Paul Gregutt   \n",
       "3  Lake Michigan Shore                NaN  Alexander Peartree   \n",
       "4    Willamette Valley  Willamette Valley        Paul Gregutt   \n",
       "\n",
       "  taster_twitter_handle                                              title  \\\n",
       "0          @kerinokeefe                  Nicosia 2013 Vulkà Bianco  (Etna)   \n",
       "1            @vossroger      Quinta dos Avidagos 2011 Avidagos Red (Douro)   \n",
       "2           @paulgwine       Rainstorm 2013 Pinot Gris (Willamette Valley)   \n",
       "3                   NaN  St. Julian 2013 Reserve Late Harvest Riesling ...   \n",
       "4           @paulgwine   Sweet Cheeks 2012 Vintner's Reserve Wild Child...   \n",
       "\n",
       "          variety               winery  \n",
       "0     White Blend              Nicosia  \n",
       "1  Portuguese Red  Quinta dos Avidagos  \n",
       "2      Pinot Gris            Rainstorm  \n",
       "3        Riesling           St. Julian  \n",
       "4      Pinot Noir         Sweet Cheeks  "
      ]
     },
     "execution_count": 86,
     "metadata": {},
     "output_type": "execute_result"
    }
   ],
   "source": [
    "df.head()"
   ]
  },
  {
   "cell_type": "code",
   "execution_count": 97,
   "id": "f3a4263f-aa73-428e-8ded-b23d206fdf15",
   "metadata": {},
   "outputs": [
    {
     "data": {
      "text/plain": [
       "19"
      ]
     },
     "execution_count": 97,
     "metadata": {},
     "output_type": "execute_result"
    }
   ],
   "source": [
    "df.loc[df[\"points\"] == 100][\"points\"].count()"
   ]
  },
  {
   "cell_type": "code",
   "execution_count": 142,
   "id": "c41ffc38-127f-42f0-8944-23eec92453cf",
   "metadata": {},
   "outputs": [
    {
     "data": {
      "text/plain": [
       "'Glamorosa Sensible'"
      ]
     },
     "execution_count": 142,
     "metadata": {},
     "output_type": "execute_result"
    }
   ],
   "source": [
    "df.loc[df[\"price\"] == df[\"price\"].max()][\"name\"].squeeze()"
   ]
  },
  {
   "cell_type": "code",
   "execution_count": 120,
   "id": "4ac02689-466d-4996-8c8d-272c1a35633a",
   "metadata": {},
   "outputs": [],
   "source": [
    "df[\"rating\"] = df[\"points\"]/20"
   ]
  },
  {
   "cell_type": "code",
   "execution_count": 121,
   "id": "f36e8dfa-0bb9-4bc3-96af-fe4c539eb002",
   "metadata": {},
   "outputs": [
    {
     "data": {
      "text/plain": [
       "5.0"
      ]
     },
     "execution_count": 121,
     "metadata": {},
     "output_type": "execute_result"
    }
   ],
   "source": [
    "df[\"rating\"].max()"
   ]
  },
  {
   "cell_type": "code",
   "execution_count": 143,
   "id": "28937577-e80e-41c3-8a21-90b08238b80c",
   "metadata": {},
   "outputs": [
    {
     "data": {
      "text/plain": [
       "<Axes: >"
      ]
     },
     "execution_count": 143,
     "metadata": {},
     "output_type": "execute_result"
    },
    {
     "data": {
      "image/png": "[encoded data removed]",
      "text/plain": [
       "<Figure size 640x480 with 1 Axes>"
      ]
     },
     "metadata": {},
     "output_type": "display_data"
    }
   ],
   "source": [
    "data = df.loc[df[\"price\"]<100][\"price\"]\n",
    "data.hist()"
   ]
  },
  {
   "cell_type": "code",
   "execution_count": 148,
   "id": "c9e7ad56-1c6c-4e97-b4e3-26a11447e089",
   "metadata": {},
   "outputs": [
    {
     "data": {
      "text/plain": [
       "<Axes: xlabel='price', ylabel='points'>"
      ]
     },
     "execution_count": 148,
     "metadata": {},
     "output_type": "execute_result"
    },
    {
     "data": {
      "image/png": "[encoded data removed]",
      "text/plain": [
       "<Figure size 3000x1000 with 1 Axes>"
      ]
     },
     "metadata": {},
     "output_type": "display_data"
    }
   ],
   "source": [
    "df.plot(x=\"price\", y=\"points\", kind=\"scatter\", figsize = (30,10))"
   ]
  }
 ],
 "metadata": {
  "kernelspec": {
   "display_name": "Python 3 (ipykernel)",
   "language": "python",
   "name": "python3"
  },
  "language_info": {
   "codemirror_mode": {
    "name": "ipython",
    "version": 3
   },
   "file_extension": ".py",
   "mimetype": "text/x-python",
   "name": "python",
   "nbconvert_exporter": "python",
   "pygments_lexer": "ipython3",
   "version": "3.11.4"
  }
 },
 "nbformat": 4,
 "nbformat_minor": 5
}
